{
 "cells": [
  {
   "cell_type": "code",
   "execution_count": null,
   "metadata": {},
   "outputs": [],
   "source": [
    "import re\n",
    "from collections import namedtuple\n",
    "from datetime import datetime\n",
    "from os import listdir\n",
    "from os.path import join as join_path, exists as file_exists, realpath, expanduser, basename, splitext\n",
    "\n",
    "import numpy as np\n",
    "import pandas as pd\n",
    "from bokeh.models import HoverTool, CDSView, BooleanFilter\n",
    "from bokeh.plotting import figure, ColumnDataSource\n",
    "from bokeh.layouts import gridplot\n",
    "from bokeh.resources import INLINE\n",
    "from bokeh.io import output_notebook, show\n",
    "\n",
    "from classifiers import bucket_alist\n",
    "from colors import from_file as color_from_file\n",
    "from images import from_file as image_from_file, NeuralNetwork\n",
    "from trial_dataframe import create_tribulation\n",
    "\n",
    "output_notebook(resources=INLINE)"
   ]
  },
  {
   "cell_type": "markdown",
   "metadata": {},
   "source": [
    "## Functions"
   ]
  },
  {
   "cell_type": "code",
   "execution_count": null,
   "metadata": {},
   "outputs": [],
   "source": [
    "def create_color_tribulation(directory):\n",
    "    df = create_tribulation(directory)\n",
    "    regex = 'colors(?P<num_centroids>[0-9]*)_'\n",
    "    regex += 's(?P<random_seed>[0-9.]*)'\n",
    "    regex += 'n(?P<dataset_size>[0-9]*)'\n",
    "    regex += 'k(?P<num_colors>[0-9]*)'\n",
    "    df['regex'] = df['trial_id'].apply(\n",
    "        lambda s: re.match(regex, s)\n",
    "    )\n",
    "    for attr in ['random_seed', 'num_centroids', 'dataset_size', 'num_colors']:\n",
    "        df[attr] = df['regex'].apply(lambda match: match.group(attr))\n",
    "        if attr != 'random_seed':\n",
    "            df[attr] = df[attr].astype(int)\n",
    "    del df['regex']\n",
    "    return df\n",
    "\n",
    "def create_image_tribulation(directory):\n",
    "    from images import NeuralNetwork\n",
    "    df = create_tribulation(directory)\n",
    "    df['neural_network'] = df['trial_id'].apply(\n",
    "        lambda s: NeuralNetwork(join_path(directory, s.split('_')[0] + '.hdf5'))\n",
    "    )\n",
    "    df['int_labels'] = df['neural_network'].apply(lambda nn: str(nn.int_labels))\n",
    "    df['batch_size'] = df['neural_network'].apply(lambda nn: int(nn.batch_size))\n",
    "    df['num_epochs'] = df['neural_network'].apply(lambda nn: int(nn.num_epochs))\n",
    "    del df['neural_network']\n",
    "    return df\n",
    "\n",
    "def filter_improvements(df):\n",
    "    new_df = pd.DataFrame()\n",
    "    for int_labels in df['int_labels'].unique():\n",
    "        label_df = df[df['int_labels'] == int_labels]\n",
    "        improvement = label_df[['num_epochs', 'true_positive_init']].drop_duplicates().sort_values('num_epochs')\n",
    "        epochs = set([improvement.iloc[0]['num_epochs']])\n",
    "        last_accuracy = 0\n",
    "        for row in improvement.itertuples():\n",
    "            if row.true_positive_init > last_accuracy:\n",
    "                epochs.add(row.num_epochs)\n",
    "                last_accuracy = row.true_positive_init\n",
    "        new_df = pd.concat([new_df, df[(df['int_labels'] == int_labels) & (df['num_epochs'].isin(epochs))]])\n",
    "    return new_df\n",
    "\n",
    "def plot_tribulation_roc(source):\n",
    "    roc_fig = figure(\n",
    "        width=400, height=400,\n",
    "        x_axis_label='Proportion of All Data Searched',\n",
    "        y_axis_label='Proportion of Label Data Found',\n",
    "        tools=['box_select'],\n",
    "    )\n",
    "    roc_fig.line(\n",
    "        x='searched',\n",
    "        y='found',\n",
    "        selection_color='red',\n",
    "        source=source,\n",
    "    )\n",
    "    return roc_fig\n",
    "\n",
    "def plot_tribulation_regret(source):\n",
    "    if not isinstance(source, ColumnDataSource):\n",
    "        source = ColumnDataSource(source)\n",
    "    regret_fig = figure(\n",
    "        width=400, height=400,\n",
    "        x_range=[0, 1.1],\n",
    "        x_axis_label='Classifier Test Accuracy',\n",
    "        y_range=[0, 1.1],\n",
    "        y_axis_label='Regret (lower is better)',\n",
    "        tools=['box_select'],\n",
    "    )\n",
    "    renderer = regret_fig.x(\n",
    "        x='true_positive_init',\n",
    "        y='mean_regret_scaled',\n",
    "        selection_color='red',\n",
    "        source=source,\n",
    "    )\n",
    "    regret_fig.add_tools(HoverTool(renderers=[renderer], tooltips=[\n",
    "        ('trial', '@trial_id'),\n",
    "        ('accuracy', '@true_positive_init'),\n",
    "        ('regret', '@mean_regret_scaled'),\n",
    "    ]))\n",
    "    return regret_fig\n",
    "\n",
    "def plot_tribulation(df):\n",
    "    source = ColumnDataSource(df)\n",
    "    roc_fig = plot_tribulation_roc(source)\n",
    "    regret_fig = plot_tribulation_regret(source)\n",
    "    figures = [roc_fig, regret_fig]\n",
    "    return gridplot([figures])"
   ]
  },
  {
   "cell_type": "markdown",
   "metadata": {},
   "source": [
    "## Color Domain"
   ]
  },
  {
   "cell_type": "markdown",
   "metadata": {},
   "source": [
    "### Regret vs. Data Size"
   ]
  },
  {
   "cell_type": "code",
   "execution_count": null,
   "metadata": {},
   "outputs": [],
   "source": [
    "def plot_color_regret():\n",
    "    # load data\n",
    "    df = create_color_tribulation('colors')\n",
    "    # group by independent variables\n",
    "    plot_df = df[[\n",
    "        'trial_id',\n",
    "        'random_seed', 'num_centroids', 'dataset_size', 'num_colors',\n",
    "        'mean_regret_scaled',\n",
    "    ]].drop_duplicates().groupby([\n",
    "        'num_centroids', 'dataset_size', 'num_colors'\n",
    "    ]).mean()['mean_regret_scaled'].reset_index()\n",
    "\n",
    "    plot_df['num_centroids'] = plot_df['num_centroids'].astype(int)\n",
    "    plot_df['dataset_size'] = plot_df['dataset_size'].astype(int)\n",
    "    plot_df['num_colors'] = plot_df['num_colors'].astype(int)\n",
    "    plot_df = plot_df[['num_centroids', 'dataset_size', 'num_colors', 'mean_regret_scaled']].drop_duplicates()\n",
    "    # build grid plot\n",
    "    grid = []\n",
    "    source = ColumnDataSource(plot_df)\n",
    "    for r, num_centroids in enumerate(reversed([10, 20, 50, 100])):\n",
    "        row = []\n",
    "        for c, num_new_labels in enumerate([20, 50, 100, 200]):\n",
    "            if num_new_labels <= num_centroids:\n",
    "                row.append(None)\n",
    "                continue\n",
    "            fig = figure(\n",
    "                width=200, height=200,\n",
    "                title='{} + {} = {}'.format(num_centroids, num_new_labels - num_centroids, num_new_labels),\n",
    "                x_axis_type='log',\n",
    "                x_range=[90, 1100000],\n",
    "                y_range=[0, 0.025],\n",
    "            )\n",
    "            fig.x(\n",
    "                x='dataset_size',\n",
    "                y='mean_regret_scaled',\n",
    "                source=source,\n",
    "                view=CDSView(\n",
    "                    source=source,\n",
    "                    filters=[BooleanFilter(plot_df.apply(\n",
    "                        (lambda row: (row['num_centroids'] == num_centroids) & (row['num_colors'] == num_new_labels)),\n",
    "                        axis=1,\n",
    "                    ))],\n",
    "                ),\n",
    "            )\n",
    "            row.append(fig)\n",
    "        grid.append(row)\n",
    "    return gridplot(grid)\n",
    "\n",
    "show(plot_color_regret())"
   ]
  },
  {
   "cell_type": "markdown",
   "metadata": {},
   "source": [
    "## CIFAR-10, Three Labels Complete Sweep with History"
   ]
  },
  {
   "cell_type": "markdown",
   "metadata": {},
   "source": [
    "### Regret vs. Accuracy"
   ]
  },
  {
   "cell_type": "code",
   "execution_count": null,
   "metadata": {},
   "outputs": [],
   "source": [
    "show(plot_tribulation_regret(filter_improvements(create_image_tribulation('cifar10-threes-history-new'))))"
   ]
  },
  {
   "cell_type": "code",
   "execution_count": null,
   "metadata": {},
   "outputs": [],
   "source": [
    "filter_improvements(create_image_tribulation('cifar10-threes-history-new')).corr()"
   ]
  },
  {
   "cell_type": "markdown",
   "metadata": {},
   "source": [
    "### Plot regret after training"
   ]
  },
  {
   "cell_type": "code",
   "execution_count": null,
   "metadata": {},
   "outputs": [],
   "source": [
    "def plot_accuracy_over_training():\n",
    "    df = create_image_tribulation('cifar10-threes-history-new')\n",
    "    df = filter_improvements(df)\n",
    "    fig = figure(\n",
    "        width=400, height=400,\n",
    "        title='Accuracy During Training',\n",
    "        x_axis_label='Epoch',\n",
    "        y_axis_label='Accuracy',\n",
    "        y_range=[0, 1.05],\n",
    "    )\n",
    "    for int_labels in df['int_labels'].unique():\n",
    "        trial_df = df[df['int_labels'] == int_labels]\n",
    "        trial_df = trial_df[['num_epochs', 'true_positive_init']].drop_duplicates()\n",
    "        fig.line(\n",
    "            x='num_epochs',\n",
    "            y='true_positive_init',\n",
    "            source=ColumnDataSource(trial_df),\n",
    "        )\n",
    "    fig.line(\n",
    "        x='num_epochs',\n",
    "        y='true_positive_init',\n",
    "        color='#CC0000',\n",
    "        line_width=5,\n",
    "        source=ColumnDataSource(df[['int_labels', 'num_epochs', 'true_positive_init']].drop_duplicates().pivot_table(\n",
    "            index='num_epochs',\n",
    "            values='true_positive_init', \n",
    "            aggfunc=np.mean,\n",
    "        )),\n",
    "    )\n",
    "    return fig\n",
    "    \n",
    "def plot_regret_over_training():\n",
    "    df = create_image_tribulation('cifar10-threes-history-new')\n",
    "    df = filter_improvements(df)\n",
    "    fig = figure(\n",
    "        width=400, height=400,\n",
    "        title='Regret During Training',\n",
    "        x_axis_label='Epoch',\n",
    "        y_axis_label='Regret',\n",
    "        y_range=[0, 1.05],\n",
    "    )\n",
    "    for int_labels in df['int_labels'].unique():\n",
    "        trial_df = df[df['int_labels'] == int_labels]\n",
    "        trial_df = trial_df[['num_epochs', 'mean_regret_scaled']].drop_duplicates()\n",
    "        fig.line(\n",
    "            x='num_epochs',\n",
    "            y='mean_regret_scaled',\n",
    "            source=ColumnDataSource(trial_df),\n",
    "        )\n",
    "    fig.line(\n",
    "        x='num_epochs',\n",
    "        y='mean_regret_scaled',\n",
    "        color='#CC0000',\n",
    "        line_width=5,\n",
    "        source=ColumnDataSource(df[['int_labels', 'num_epochs', 'mean_regret_scaled']].drop_duplicates().pivot_table(\n",
    "            index='num_epochs',\n",
    "            values='mean_regret_scaled', \n",
    "            aggfunc=np.mean,\n",
    "        )),\n",
    "    )\n",
    "    return fig\n",
    "\n",
    "show(gridplot([[plot_accuracy_over_training(), plot_regret_over_training()]]))"
   ]
  },
  {
   "cell_type": "markdown",
   "metadata": {},
   "source": [
    "## CIFAR-100 Pilot"
   ]
  },
  {
   "cell_type": "markdown",
   "metadata": {},
   "source": [
    "### Preview Data"
   ]
  },
  {
   "cell_type": "raw",
   "metadata": {
    "scrolled": false
   },
   "source": [
    "create_image_tribulation('cifar100-pilot').head()"
   ]
  },
  {
   "cell_type": "markdown",
   "metadata": {},
   "source": [
    "### Plot Regret"
   ]
  },
  {
   "cell_type": "raw",
   "metadata": {},
   "source": [
    "show(plot_tribulation_regret(create_image_tribulation('cifar100-pilot')))"
   ]
  },
  {
   "cell_type": "markdown",
   "metadata": {},
   "source": [
    "## CIFAR-100 Orthogonal Exploration"
   ]
  },
  {
   "cell_type": "raw",
   "metadata": {},
   "source": [
    "create_image_tribulation('cifar100-orthog').head()"
   ]
  },
  {
   "cell_type": "raw",
   "metadata": {
    "scrolled": false
   },
   "source": [
    "def plot_cifar100_orthog():\n",
    "    tribulation = create_image_tribulation('cifar100-orthog')\n",
    "    labels = list(range(5, 30, 5))\n",
    "    epochs = list(range(200, 800, 200))\n",
    "    # sort the trials\n",
    "    networks = {}\n",
    "    for trial_id in tribulation['trial_id'].unique():\n",
    "        classifier_str = trial_id.split('_')[0]\n",
    "        path = join_path('cifar100-orthog', classifier_str + '.hdf5')\n",
    "        nn = NeuralNetwork(path)\n",
    "        key = (len(nn.int_labels), nn.num_epochs)\n",
    "        networks.setdefault(key, set()).add(trial_id)\n",
    "\n",
    "\n",
    "    default_labels = 10\n",
    "    default_epoch = 200\n",
    "\n",
    "    label_plots = []\n",
    "    for num_labels in sorted(labels):\n",
    "        key = (num_labels, default_epoch)\n",
    "        plot_df = tribulation[tribulation['trial_id'].apply(\n",
    "            lambda s: any(s.startswith(prefix) for prefix in networks[key])\n",
    "        )]\n",
    "        label_plots.append(plot_tribulation_regret(plot_df))\n",
    "    show(gridplot([label_plots]))\n",
    "\n",
    "    epoch_plots = []\n",
    "    for num_epochs in sorted(epochs):\n",
    "        key = (default_labels, num_epochs)\n",
    "        plot_df = tribulation[tribulation['trial_id'].apply(\n",
    "            lambda s: any(s.startswith(prefix) for prefix in networks[key])\n",
    "        )]\n",
    "        epoch_plots.append(plot_tribulation_regret(plot_df))\n",
    "    show(gridplot([epoch_plots]))\n",
    "\n",
    "plot_cifar100_orthog()"
   ]
  }
 ],
 "metadata": {
  "kernelspec": {
   "display_name": "Python 3",
   "language": "python",
   "name": "python3"
  },
  "language_info": {
   "codemirror_mode": {
    "name": "ipython",
    "version": 3
   },
   "file_extension": ".py",
   "mimetype": "text/x-python",
   "name": "python",
   "nbconvert_exporter": "python",
   "pygments_lexer": "ipython3",
   "version": "3.7.0"
  }
 },
 "nbformat": 4,
 "nbformat_minor": 2
}
